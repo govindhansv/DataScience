{
 "cells": [
  {
   "cell_type": "code",
   "execution_count": 2,
   "id": "8c449cb4",
   "metadata": {},
   "outputs": [
    {
     "name": "stdout",
     "output_type": "stream",
     "text": [
      "Accuracy: 0.9035087719298246\n",
      "Classification Report:\n",
      "               precision    recall  f1-score   support\n",
      "\n",
      "           0       0.83      0.93      0.88        42\n",
      "           1       0.96      0.89      0.92        72\n",
      "\n",
      "    accuracy                           0.90       114\n",
      "   macro avg       0.89      0.91      0.90       114\n",
      "weighted avg       0.91      0.90      0.90       114\n",
      "\n"
     ]
    },
    {
     "data": {
      "image/png": "[encoded data removed]",
      "text/plain": [
       "<Figure size 500x400 with 2 Axes>"
      ]
     },
     "metadata": {},
     "output_type": "display_data"
    },
    {
     "name": "stdout",
     "output_type": "stream",
     "text": [
      "\n",
      "--- Breast Cancer Prediction ---\n",
      "\n",
      "Prediction: Benign (Not Cancerous)\n"
     ]
    }
   ],
   "source": [
    "import pandas as pd\n",
    "from sklearn.datasets import load_breast_cancer\n",
    "from sklearn.model_selection import train_test_split\n",
    "from sklearn.linear_model import LogisticRegression\n",
    "from sklearn.metrics import accuracy_score, classification_report, confusion_matrix\n",
    "import seaborn as sns\n",
    "import matplotlib.pyplot as plt\n",
    "\n",
    "#-----------------------DATA------------------------#\n",
    "# 1. LOAD DATASET\n",
    "data = load_breast_cancer()\n",
    "df = pd.DataFrame(data.data, columns=data.feature_names)\n",
    "df[\"target\"] = data.target\n",
    "\n",
    "# Keep only 5 important features\n",
    "df_small = df[['mean radius', 'mean texture', 'mean perimeter', 'mean area', 'mean smoothness', 'target']]\n",
    "\n",
    "# 2. Split dataset\n",
    "x = df_small.drop(columns=[\"target\"])\n",
    "y = df_small[\"target\"]\n",
    "x_train, x_test, y_train, y_test = train_test_split(\n",
    "    x, y, test_size=0.2, random_state=42, stratify=y\n",
    ")\n",
    "\n",
    "#-----------------------MODEL CREATION------------------------#\n",
    "\n",
    "# 3. Train logistic regression\n",
    "model = LogisticRegression(max_iter=1000)  # Increased iterations\n",
    "model.fit(x_train, y_train)\n",
    "\n",
    "# 4. Evaluate model\n",
    "y_pred = model.predict(x_test)\n",
    "y_prob = model.predict_proba(x_test)[:, 1]\n",
    "\n",
    "print(\"Accuracy:\", accuracy_score(y_test, y_pred))\n",
    "print(\"Classification Report:\\n\", classification_report(y_test, y_pred))\n",
    "\n",
    "# ---------- Evaluation Visualization --------- #\n",
    "\n",
    "# Confusion Matrix\n",
    "cm = confusion_matrix(y_test, y_pred)\n",
    "plt.figure(figsize=(5, 4))\n",
    "sns.heatmap(cm, annot=True, fmt=\"d\", cmap=\"Blues\",\n",
    "            xticklabels=[\"Malignant\", \"Benign\"], \n",
    "            yticklabels=[\"Malignant\", \"Benign\"])\n",
    "plt.xlabel(\"Predicted\")\n",
    "plt.ylabel(\"Actual\")\n",
    "plt.title(\"Confusion Matrix\")\n",
    "plt.show()\n",
    "\n",
    "#------------------------------------------------PREDICTION---------------------------------#\n",
    "\n",
    "# 5. User Input Prediction\n",
    "print(\"\\n--- Breast Cancer Prediction ---\")\n",
    "\n",
    "mean_radius = float(input(\"Enter mean radius (e.g. 14.5): \"))\n",
    "mean_texture = float(input(\"Enter mean texture (e.g. 20.0): \"))\n",
    "mean_perimeter = float(input(\"Enter mean perimeter (e.g. 100.0): \"))\n",
    "mean_area = float(input(\"Enter mean area (e.g. 900.0): \"))\n",
    "mean_smoothness = float(input(\"Enter mean smoothness (e.g. 0.1): \"))\n",
    "\n",
    "# Create DataFrame for user input\n",
    "user_data = {\n",
    "    \"mean radius\": mean_radius,\n",
    "    \"mean texture\": mean_texture,\n",
    "    \"mean perimeter\": mean_perimeter,\n",
    "    \"mean area\": mean_area,\n",
    "    \"mean smoothness\": mean_smoothness\n",
    "}\n",
    "user_df = pd.DataFrame([user_data])\n",
    "\n",
    "# Predict\n",
    "prediction = model.predict(user_df)[0]\n",
    "\n",
    "if prediction == 1:\n",
    "    print(\"\\nPrediction: Benign (Not Cancerous)\")\n",
    "else:\n",
    "    print(\"\\nPrediction: Malignant (Cancerous)\")\n"
   ]
  }
 ],
 "metadata": {
  "kernelspec": {
   "display_name": "Python 3",
   "language": "python",
   "name": "python3"
  },
  "language_info": {
   "codemirror_mode": {
    "name": "ipython",
    "version": 3
   },
   "file_extension": ".py",
   "mimetype": "text/x-python",
   "name": "python",
   "nbconvert_exporter": "python",
   "pygments_lexer": "ipython3",
   "version": "3.13.7"
  }
 },
 "nbformat": 4,
 "nbformat_minor": 5
}
