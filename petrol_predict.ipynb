{
 "cells": [
  {
   "cell_type": "code",
   "execution_count": 2,
   "id": "d5f032a1",
   "metadata": {},
   "outputs": [
    {
     "name": "stdout",
     "output_type": "stream",
     "text": [
      "\n",
      "🔮 Prediction Results:\n",
      "Linear Regression Prediction: 17237.48 litres\n",
      "Random Forest Prediction: 539.72 litres\n"
     ]
    },
    {
     "name": "stderr",
     "output_type": "stream",
     "text": [
      "c:\\Users\\user\\AppData\\Local\\Programs\\Python\\Python313\\Lib\\site-packages\\sklearn\\utils\\validation.py:2749: UserWarning: X does not have valid feature names, but LinearRegression was fitted with feature names\n",
      "  warnings.warn(\n",
      "c:\\Users\\user\\AppData\\Local\\Programs\\Python\\Python313\\Lib\\site-packages\\sklearn\\utils\\validation.py:2749: UserWarning: X does not have valid feature names, but RandomForestRegressor was fitted with feature names\n",
      "  warnings.warn(\n"
     ]
    }
   ],
   "source": [
    "# Petrol Usage Prediction with User Input\n",
    "import pandas as pd\n",
    "import numpy as np\n",
    "from sklearn.model_selection import train_test_split\n",
    "from sklearn.linear_model import LinearRegression\n",
    "from sklearn.ensemble import RandomForestRegressor\n",
    "from sklearn.metrics import r2_score\n",
    "\n",
    "# ------------------ LOAD DATA ------------------ #\n",
    "data = {\n",
    "    \"Petrol_tax\": [9,9,8,8,7,7,7,7,7,7,7,6,6,6,6,5,5,5,5,5,5,4,4,4,4,4,4,4,3,3,3,2,2,2,2,2,1,1,1,1],\n",
    "    \"Average_income\": [3571,4092,3865,4870,4399,5342,5319,5126,4447,4512,4391,5126,5180,4884,4884,5257,5126,4884,5257,5126,4884,4934,5180,4605,4817,4987,5776,5914,7827,9137,8504,8217,8025,8217,8217,7675,8623,8943,9150,9504],\n",
    "    \"Paved_Highways\": [1976,1250,1586,2351,431,1527,561,179,972,135,525,1084,641,951,850,113,1208,107,1208,1333,1443,1418,1169,118,1515,1214,852,1108,344,1201,135,2449,1456,1325,1664,1408,811,233,577,783],\n",
    "    \"Population_Driver_license\": [0.525,0.572,0.545,0.529,0.544,0.571,0.581,0.525,0.544,0.548,0.548,0.555,0.509,0.528,0.552,0.544,0.601,0.632,0.591,0.591,0.530,0.577,0.604,0.599,0.587,0.629,0.605,0.632,0.589,0.641,0.609,0.586,0.653,0.601,0.632,0.591,0.576,0.591,0.601,0.677],\n",
    "    \"Petrol_Consumption\": [541,524,561,414,410,410,457,344,467,464,498,580,471,525,508,566,635,603,714,603,591,782,865,640,649,540,461,524,414,410,410,457,344,467,464,498,580,471,525,508]\n",
    "}\n",
    "df = pd.DataFrame(data)\n",
    "\n",
    "# ------------------ SPLIT DATA ------------------ #\n",
    "X = df.drop(\"Petrol_Consumption\", axis=1)\n",
    "y = df[\"Petrol_Consumption\"]\n",
    "\n",
    "X_train, X_test, y_train, y_test = train_test_split(\n",
    "    X, y, test_size=0.2, random_state=42\n",
    ")\n",
    "\n",
    "# ------------------ MODELS ------------------ #\n",
    "lin_reg = LinearRegression()\n",
    "lin_reg.fit(X_train, y_train)\n",
    "\n",
    "rf = RandomForestRegressor(n_estimators=100, random_state=42)\n",
    "rf.fit(X_train, y_train)\n",
    "\n",
    "# ------------------ FUNCTION FOR CUSTOM PREDICTION ------------------ #\n",
    "def predict_petrol_usage(petrol_tax, avg_income, paved_highways, driver_license_pct):\n",
    "    features = np.array([[petrol_tax, avg_income, paved_highways, driver_license_pct]])\n",
    "    \n",
    "    pred_lr = lin_reg.predict(features)[0]\n",
    "    pred_rf = rf.predict(features)[0]\n",
    "    \n",
    "    print(\"\\n🔮 Prediction Results:\")\n",
    "    print(f\"Linear Regression Prediction: {pred_lr:.2f} litres\")\n",
    "    print(f\"Random Forest Prediction: {pred_rf:.2f} litres\")\n",
    "\n",
    "# ------------------ USER INPUT MODE ------------------ #\n",
    "tax = float(input(\"Enter Petrol Tax: \"))\n",
    "income = float(input(\"Enter Average Income: \"))\n",
    "highways = float(input(\"Enter Paved Highways (miles): \"))\n",
    "license_pct = float(input(\"Enter % Drivers with License (0-1): \"))\n",
    "\n",
    "predict_petrol_usage(tax, income, highways, license_pct)\n"
   ]
  }
 ],
 "metadata": {
  "kernelspec": {
   "display_name": "Python 3",
   "language": "python",
   "name": "python3"
  },
  "language_info": {
   "codemirror_mode": {
    "name": "ipython",
    "version": 3
   },
   "file_extension": ".py",
   "mimetype": "text/x-python",
   "name": "python",
   "nbconvert_exporter": "python",
   "pygments_lexer": "ipython3",
   "version": "3.13.7"
  }
 },
 "nbformat": 4,
 "nbformat_minor": 5
}
